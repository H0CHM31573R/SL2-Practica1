{
 "cells": [
  {
   "cell_type": "code",
   "execution_count": 99,
   "id": "237e90ac-5a15-4a4a-9060-62ad165640fb",
   "metadata": {},
   "outputs": [],
   "source": [
    "import pandas as pd\n",
    "import numpy as np\n",
    "import matplotlib.pyplot as plt\n",
    "import seaborn as sns\n",
    "from sklearn.mixture import GaussianMixture\n",
    "from sklearn.preprocessing import StandardScaler"
   ]
  },
  {
   "cell_type": "code",
   "execution_count": 2,
   "id": "afd17a2d-248b-4878-966f-b9bd11e8b382",
   "metadata": {},
   "outputs": [
    {
     "data": {
      "text/html": [
       "<div>\n",
       "<style scoped>\n",
       "    .dataframe tbody tr th:only-of-type {\n",
       "        vertical-align: middle;\n",
       "    }\n",
       "\n",
       "    .dataframe tbody tr th {\n",
       "        vertical-align: top;\n",
       "    }\n",
       "\n",
       "    .dataframe thead th {\n",
       "        text-align: right;\n",
       "    }\n",
       "</style>\n",
       "<table border=\"1\" class=\"dataframe\">\n",
       "  <thead>\n",
       "    <tr style=\"text-align: right;\">\n",
       "      <th></th>\n",
       "      <th>Estatura(metros)</th>\n",
       "      <th>Edad(años)</th>\n",
       "    </tr>\n",
       "  </thead>\n",
       "  <tbody>\n",
       "    <tr>\n",
       "      <th>0</th>\n",
       "      <td>1.77</td>\n",
       "      <td>26.0</td>\n",
       "    </tr>\n",
       "    <tr>\n",
       "      <th>1</th>\n",
       "      <td>1.74</td>\n",
       "      <td>31.0</td>\n",
       "    </tr>\n",
       "    <tr>\n",
       "      <th>2</th>\n",
       "      <td>1.72</td>\n",
       "      <td>24.0</td>\n",
       "    </tr>\n",
       "    <tr>\n",
       "      <th>3</th>\n",
       "      <td>1.78</td>\n",
       "      <td>34.0</td>\n",
       "    </tr>\n",
       "    <tr>\n",
       "      <th>4</th>\n",
       "      <td>1.65</td>\n",
       "      <td>32.0</td>\n",
       "    </tr>\n",
       "    <tr>\n",
       "      <th>5</th>\n",
       "      <td>1.66</td>\n",
       "      <td>29.0</td>\n",
       "    </tr>\n",
       "    <tr>\n",
       "      <th>6</th>\n",
       "      <td>1.64</td>\n",
       "      <td>27.0</td>\n",
       "    </tr>\n",
       "    <tr>\n",
       "      <th>7</th>\n",
       "      <td>1.85</td>\n",
       "      <td>34.0</td>\n",
       "    </tr>\n",
       "    <tr>\n",
       "      <th>8</th>\n",
       "      <td>1.85</td>\n",
       "      <td>26.0</td>\n",
       "    </tr>\n",
       "    <tr>\n",
       "      <th>9</th>\n",
       "      <td>1.75</td>\n",
       "      <td>21.0</td>\n",
       "    </tr>\n",
       "    <tr>\n",
       "      <th>10</th>\n",
       "      <td>1.73</td>\n",
       "      <td>23.0</td>\n",
       "    </tr>\n",
       "    <tr>\n",
       "      <th>11</th>\n",
       "      <td>1.79</td>\n",
       "      <td>25.0</td>\n",
       "    </tr>\n",
       "    <tr>\n",
       "      <th>12</th>\n",
       "      <td>1.82</td>\n",
       "      <td>24.0</td>\n",
       "    </tr>\n",
       "    <tr>\n",
       "      <th>13</th>\n",
       "      <td>1.65</td>\n",
       "      <td>25.0</td>\n",
       "    </tr>\n",
       "    <tr>\n",
       "      <th>14</th>\n",
       "      <td>1.79</td>\n",
       "      <td>25.0</td>\n",
       "    </tr>\n",
       "    <tr>\n",
       "      <th>15</th>\n",
       "      <td>1.72</td>\n",
       "      <td>34.0</td>\n",
       "    </tr>\n",
       "    <tr>\n",
       "      <th>16</th>\n",
       "      <td>1.70</td>\n",
       "      <td>26.0</td>\n",
       "    </tr>\n",
       "    <tr>\n",
       "      <th>17</th>\n",
       "      <td>1.57</td>\n",
       "      <td>25.0</td>\n",
       "    </tr>\n",
       "    <tr>\n",
       "      <th>18</th>\n",
       "      <td>1.66</td>\n",
       "      <td>26.0</td>\n",
       "    </tr>\n",
       "    <tr>\n",
       "      <th>19</th>\n",
       "      <td>1.75</td>\n",
       "      <td>27.0</td>\n",
       "    </tr>\n",
       "    <tr>\n",
       "      <th>20</th>\n",
       "      <td>1.77</td>\n",
       "      <td>32.0</td>\n",
       "    </tr>\n",
       "    <tr>\n",
       "      <th>21</th>\n",
       "      <td>1.80</td>\n",
       "      <td>40.0</td>\n",
       "    </tr>\n",
       "    <tr>\n",
       "      <th>22</th>\n",
       "      <td>1.85</td>\n",
       "      <td>25.0</td>\n",
       "    </tr>\n",
       "    <tr>\n",
       "      <th>23</th>\n",
       "      <td>1.82</td>\n",
       "      <td>24.0</td>\n",
       "    </tr>\n",
       "    <tr>\n",
       "      <th>24</th>\n",
       "      <td>1.75</td>\n",
       "      <td>38.0</td>\n",
       "    </tr>\n",
       "    <tr>\n",
       "      <th>25</th>\n",
       "      <td>1.73</td>\n",
       "      <td>34.0</td>\n",
       "    </tr>\n",
       "    <tr>\n",
       "      <th>26</th>\n",
       "      <td>1.55</td>\n",
       "      <td>29.0</td>\n",
       "    </tr>\n",
       "    <tr>\n",
       "      <th>27</th>\n",
       "      <td>1.76</td>\n",
       "      <td>28.0</td>\n",
       "    </tr>\n",
       "    <tr>\n",
       "      <th>28</th>\n",
       "      <td>1.68</td>\n",
       "      <td>27.0</td>\n",
       "    </tr>\n",
       "    <tr>\n",
       "      <th>29</th>\n",
       "      <td>1.65</td>\n",
       "      <td>30.0</td>\n",
       "    </tr>\n",
       "    <tr>\n",
       "      <th>30</th>\n",
       "      <td>1.72</td>\n",
       "      <td>26.0</td>\n",
       "    </tr>\n",
       "    <tr>\n",
       "      <th>31</th>\n",
       "      <td>1.90</td>\n",
       "      <td>24.0</td>\n",
       "    </tr>\n",
       "    <tr>\n",
       "      <th>32</th>\n",
       "      <td>1.74</td>\n",
       "      <td>34.0</td>\n",
       "    </tr>\n",
       "    <tr>\n",
       "      <th>33</th>\n",
       "      <td>1.73</td>\n",
       "      <td>33.0</td>\n",
       "    </tr>\n",
       "    <tr>\n",
       "      <th>34</th>\n",
       "      <td>1.83</td>\n",
       "      <td>53.0</td>\n",
       "    </tr>\n",
       "    <tr>\n",
       "      <th>35</th>\n",
       "      <td>1.65</td>\n",
       "      <td>28.0</td>\n",
       "    </tr>\n",
       "    <tr>\n",
       "      <th>36</th>\n",
       "      <td>1.73</td>\n",
       "      <td>24.0</td>\n",
       "    </tr>\n",
       "    <tr>\n",
       "      <th>37</th>\n",
       "      <td>1.73</td>\n",
       "      <td>22.0</td>\n",
       "    </tr>\n",
       "    <tr>\n",
       "      <th>38</th>\n",
       "      <td>1.73</td>\n",
       "      <td>23.0</td>\n",
       "    </tr>\n",
       "    <tr>\n",
       "      <th>39</th>\n",
       "      <td>1.65</td>\n",
       "      <td>43.0</td>\n",
       "    </tr>\n",
       "    <tr>\n",
       "      <th>40</th>\n",
       "      <td>1.72</td>\n",
       "      <td>26.0</td>\n",
       "    </tr>\n",
       "    <tr>\n",
       "      <th>41</th>\n",
       "      <td>1.63</td>\n",
       "      <td>31.0</td>\n",
       "    </tr>\n",
       "    <tr>\n",
       "      <th>42</th>\n",
       "      <td>1.73</td>\n",
       "      <td>35.0</td>\n",
       "    </tr>\n",
       "    <tr>\n",
       "      <th>43</th>\n",
       "      <td>1.85</td>\n",
       "      <td>49.0</td>\n",
       "    </tr>\n",
       "    <tr>\n",
       "      <th>44</th>\n",
       "      <td>1.71</td>\n",
       "      <td>28.0</td>\n",
       "    </tr>\n",
       "    <tr>\n",
       "      <th>45</th>\n",
       "      <td>1.70</td>\n",
       "      <td>28.0</td>\n",
       "    </tr>\n",
       "    <tr>\n",
       "      <th>46</th>\n",
       "      <td>1.68</td>\n",
       "      <td>35.0</td>\n",
       "    </tr>\n",
       "    <tr>\n",
       "      <th>47</th>\n",
       "      <td>1.63</td>\n",
       "      <td>25.0</td>\n",
       "    </tr>\n",
       "    <tr>\n",
       "      <th>48</th>\n",
       "      <td>1.64</td>\n",
       "      <td>39.0</td>\n",
       "    </tr>\n",
       "    <tr>\n",
       "      <th>49</th>\n",
       "      <td>1.70</td>\n",
       "      <td>33.0</td>\n",
       "    </tr>\n",
       "    <tr>\n",
       "      <th>50</th>\n",
       "      <td>1.65</td>\n",
       "      <td>31.0</td>\n",
       "    </tr>\n",
       "    <tr>\n",
       "      <th>51</th>\n",
       "      <td>1.68</td>\n",
       "      <td>34.0</td>\n",
       "    </tr>\n",
       "    <tr>\n",
       "      <th>52</th>\n",
       "      <td>1.71</td>\n",
       "      <td>29.0</td>\n",
       "    </tr>\n",
       "  </tbody>\n",
       "</table>\n",
       "</div>"
      ],
      "text/plain": [
       "    Estatura(metros)  Edad(años)\n",
       "0               1.77        26.0\n",
       "1               1.74        31.0\n",
       "2               1.72        24.0\n",
       "3               1.78        34.0\n",
       "4               1.65        32.0\n",
       "5               1.66        29.0\n",
       "6               1.64        27.0\n",
       "7               1.85        34.0\n",
       "8               1.85        26.0\n",
       "9               1.75        21.0\n",
       "10              1.73        23.0\n",
       "11              1.79        25.0\n",
       "12              1.82        24.0\n",
       "13              1.65        25.0\n",
       "14              1.79        25.0\n",
       "15              1.72        34.0\n",
       "16              1.70        26.0\n",
       "17              1.57        25.0\n",
       "18              1.66        26.0\n",
       "19              1.75        27.0\n",
       "20              1.77        32.0\n",
       "21              1.80        40.0\n",
       "22              1.85        25.0\n",
       "23              1.82        24.0\n",
       "24              1.75        38.0\n",
       "25              1.73        34.0\n",
       "26              1.55        29.0\n",
       "27              1.76        28.0\n",
       "28              1.68        27.0\n",
       "29              1.65        30.0\n",
       "30              1.72        26.0\n",
       "31              1.90        24.0\n",
       "32              1.74        34.0\n",
       "33              1.73        33.0\n",
       "34              1.83        53.0\n",
       "35              1.65        28.0\n",
       "36              1.73        24.0\n",
       "37              1.73        22.0\n",
       "38              1.73        23.0\n",
       "39              1.65        43.0\n",
       "40              1.72        26.0\n",
       "41              1.63        31.0\n",
       "42              1.73        35.0\n",
       "43              1.85        49.0\n",
       "44              1.71        28.0\n",
       "45              1.70        28.0\n",
       "46              1.68        35.0\n",
       "47              1.63        25.0\n",
       "48              1.64        39.0\n",
       "49              1.70        33.0\n",
       "50              1.65        31.0\n",
       "51              1.68        34.0\n",
       "52              1.71        29.0"
      ]
     },
     "execution_count": 2,
     "metadata": {},
     "output_type": "execute_result"
    }
   ],
   "source": [
    "normales = pd.read_excel(\"estaturas.xlsx\", sheet_name=\"normales\")\n",
    "normales"
   ]
  },
  {
   "cell_type": "code",
   "execution_count": 3,
   "id": "4ba701cd-abfb-4e49-8706-4d9928771af1",
   "metadata": {},
   "outputs": [
    {
     "data": {
      "text/plain": [
       "array([[ 0.62277299, -0.60419651],\n",
       "       [ 0.21359569,  0.17304657],\n",
       "       [-0.05918917, -0.91509374],\n",
       "       [ 0.75916542,  0.63939242],\n",
       "       [-1.01393619,  0.32849519],\n",
       "       [-0.87754376, -0.13785066],\n",
       "       [-1.15032862, -0.44874789],\n",
       "       [ 1.71391244,  0.63939242],\n",
       "       [ 1.71391244, -0.60419651],\n",
       "       [ 0.34998813, -1.38143959],\n",
       "       [ 0.07720326, -1.07054236],\n",
       "       [ 0.89555785, -0.75964513],\n",
       "       [ 1.30473515, -0.91509374],\n",
       "       [-1.01393619, -0.75964513],\n",
       "       [ 0.89555785, -0.75964513],\n",
       "       [-0.05918917,  0.63939242],\n",
       "       [-0.33197403, -0.60419651],\n",
       "       [-2.10507564, -0.75964513],\n",
       "       [-0.87754376, -0.60419651],\n",
       "       [ 0.34998813, -0.44874789],\n",
       "       [ 0.62277299,  0.32849519],\n",
       "       [ 1.03195028,  1.57208412],\n",
       "       [ 1.71391244, -0.75964513],\n",
       "       [ 1.30473515, -0.91509374],\n",
       "       [ 0.34998813,  1.26118689],\n",
       "       [ 0.07720326,  0.63939242],\n",
       "       [-2.37786051, -0.13785066],\n",
       "       [ 0.48638056, -0.29329928],\n",
       "       [-0.60475889, -0.44874789],\n",
       "       [-1.01393619,  0.01759796],\n",
       "       [-0.05918917, -0.60419651],\n",
       "       [ 2.3958746 , -0.91509374],\n",
       "       [ 0.21359569,  0.63939242],\n",
       "       [ 0.07720326,  0.48394381],\n",
       "       [ 1.44112758,  3.59291613],\n",
       "       [-1.01393619, -0.29329928],\n",
       "       [ 0.07720326, -0.91509374],\n",
       "       [ 0.07720326, -1.22599097],\n",
       "       [ 0.07720326, -1.07054236],\n",
       "       [-1.01393619,  2.03842997],\n",
       "       [-0.05918917, -0.60419651],\n",
       "       [-1.28672105,  0.17304657],\n",
       "       [ 0.07720326,  0.79484104],\n",
       "       [ 1.71391244,  2.97112167],\n",
       "       [-0.1955816 , -0.29329928],\n",
       "       [-0.33197403, -0.29329928],\n",
       "       [-0.60475889,  0.79484104],\n",
       "       [-1.28672105, -0.75964513],\n",
       "       [-1.15032862,  1.4166355 ],\n",
       "       [-0.33197403,  0.48394381],\n",
       "       [-1.01393619,  0.17304657],\n",
       "       [-0.60475889,  0.63939242],\n",
       "       [-0.1955816 , -0.13785066]])"
      ]
     },
     "execution_count": 3,
     "metadata": {},
     "output_type": "execute_result"
    }
   ],
   "source": [
    "scaler = StandardScaler()\n",
    "scaler.fit(normales)\n",
    "train = scaler.transform(normales)\n",
    "train"
   ]
  },
  {
   "cell_type": "markdown",
   "id": "6eada377-cd9a-43d7-82f9-c806f203b1ab",
   "metadata": {},
   "source": [
    "# Implementando K Means"
   ]
  },
  {
   "cell_type": "code",
   "execution_count": 129,
   "id": "fe891e28-fa53-4928-aef0-5357cdafe8eb",
   "metadata": {},
   "outputs": [],
   "source": [
    "class KMeans:\n",
    "    def __init__(self, K, max_iters):\n",
    "        self.K = K\n",
    "        self.max_iters = max_iters\n",
    "        self.centroids = None\n",
    "        self.distortion = None\n",
    "        \n",
    "    def euclidean_distance(self, point, data):\n",
    "        return np.sqrt(np.sum((point - data)**2, axis=1))\n",
    "        \n",
    "    def fit(self, data):\n",
    "        min_values = np.min(data, axis=0)\n",
    "        max_values = np.max(data, axis=0)\n",
    "        self.centroids = [np.random.uniform(min_values, max_values) for k in range(self.K)]\n",
    "        \n",
    "        i = 0\n",
    "        prev_centroids = None   \n",
    "        while i <= self.max_iters and not np.array_equal(self.centroids, prev_centroids):\n",
    "            clusters = [[] for k in range(self.K)]\n",
    "            prev_centroids = self.centroids.copy()\n",
    "            \n",
    "            for x in data:\n",
    "                x_distance_to_centroids = self.euclidean_distance(x, np.array(self.centroids))\n",
    "                x_cluster = np.argmin(x_distance_to_centroids)\n",
    "                clusters[x_cluster].append(x)\n",
    "                \n",
    "            self.centroids = [np.mean(cluster, axis=0) for cluster in clusters]  \n",
    "            for i, centroid in enumerate(self.centroids):\n",
    "                if np.isnan(centroid).any():\n",
    "                    self.centroids[i] = prev_centroids[i]\n",
    "            i += 1\n",
    "            \n",
    "        distortion = 0\n",
    "        for j, cluster in enumerate(clusters):\n",
    "            if cluster:\n",
    "                distortion += np.sum(np.square(self.centroids[j]-np.array(cluster)))\n",
    "        self.distortion = distortion\n",
    "        \n",
    "        return np.array(self.centroids)\n",
    "    \n",
    "    def predict(self, X):\n",
    "        clusters = []\n",
    "        for x in X:\n",
    "            dists = self.euclidean_distance(x, self.centroids)\n",
    "            cluster = np.argmin(dists)\n",
    "            clusters.append(cluster)\n",
    "        \n",
    "        return np.array(clusters)\n",
    "            \n",
    "    def get_centroids(self):\n",
    "        return np.array(self.centroids)\n",
    "    \n",
    "    def get_distortion(self):\n",
    "        return self.distortion"
   ]
  },
  {
   "cell_type": "code",
   "execution_count": 16,
   "id": "dca498fa-63c8-486b-ae6d-fe30181fd1a0",
   "metadata": {},
   "outputs": [
    {
     "data": {
      "text/plain": [
       "([array([1.39566344, 2.71204064]),\n",
       "  array([ 0.70336852, -0.59006482]),\n",
       "  array([-0.70218206,  0.17304657])],\n",
       " 44.90286139420016)"
      ]
     },
     "execution_count": 16,
     "metadata": {},
     "output_type": "execute_result"
    }
   ],
   "source": [
    "kmeans = KMeans(3, 500)\n",
    "kmeans.fit(train), kmeans.get_distortion()"
   ]
  },
  {
   "cell_type": "code",
   "execution_count": null,
   "id": "f4d53e49-0fb0-4698-bd75-a5ee0255b731",
   "metadata": {},
   "outputs": [],
   "source": [
    "gm = GaussianMixture(n_components=3, random_state=0)\n",
    "gm.fit(train)\n",
    "gm.means_, gm.score(train)"
   ]
  },
  {
   "cell_type": "markdown",
   "id": "525a1af2-1832-4a7e-baa3-58f185f797f5",
   "metadata": {},
   "source": [
    "# Experimentos"
   ]
  },
  {
   "cell_type": "code",
   "execution_count": 77,
   "id": "26a2a425-94c4-41e8-816d-b29bc1c78c9d",
   "metadata": {},
   "outputs": [
    {
     "name": "stderr",
     "output_type": "stream",
     "text": [
      "C:\\ProgramData\\Anaconda3\\lib\\site-packages\\sklearn\\cluster\\_kmeans.py:1036: UserWarning: KMeans is known to have a memory leak on Windows with MKL, when there are less chunks than available threads. You can avoid it by setting the environment variable OMP_NUM_THREADS=1.\n",
      "  warnings.warn(\n",
      "C:\\ProgramData\\Anaconda3\\lib\\site-packages\\numpy\\core\\fromnumeric.py:3440: RuntimeWarning: Mean of empty slice.\n",
      "  return _methods._mean(a, axis=axis, dtype=dtype,\n",
      "C:\\ProgramData\\Anaconda3\\lib\\site-packages\\numpy\\core\\_methods.py:189: RuntimeWarning: invalid value encountered in double_scalars\n",
      "  ret = ret.dtype.type(ret / rcount)\n",
      "C:\\ProgramData\\Anaconda3\\lib\\site-packages\\numpy\\core\\fromnumeric.py:3440: RuntimeWarning: Mean of empty slice.\n",
      "  return _methods._mean(a, axis=axis, dtype=dtype,\n",
      "C:\\ProgramData\\Anaconda3\\lib\\site-packages\\numpy\\core\\_methods.py:189: RuntimeWarning: invalid value encountered in double_scalars\n",
      "  ret = ret.dtype.type(ret / rcount)\n",
      "C:\\ProgramData\\Anaconda3\\lib\\site-packages\\numpy\\core\\fromnumeric.py:3440: RuntimeWarning: Mean of empty slice.\n",
      "  return _methods._mean(a, axis=axis, dtype=dtype,\n",
      "C:\\ProgramData\\Anaconda3\\lib\\site-packages\\numpy\\core\\_methods.py:189: RuntimeWarning: invalid value encountered in double_scalars\n",
      "  ret = ret.dtype.type(ret / rcount)\n",
      "C:\\ProgramData\\Anaconda3\\lib\\site-packages\\numpy\\core\\fromnumeric.py:3440: RuntimeWarning: Mean of empty slice.\n",
      "  return _methods._mean(a, axis=axis, dtype=dtype,\n",
      "C:\\ProgramData\\Anaconda3\\lib\\site-packages\\numpy\\core\\_methods.py:189: RuntimeWarning: invalid value encountered in double_scalars\n",
      "  ret = ret.dtype.type(ret / rcount)\n"
     ]
    }
   ],
   "source": [
    "Ks = [1, 2, 3, 4, 5, 6, 7, 8, 9, 10]\n",
    "kmeans = []\n",
    "gaussians = []\n",
    "for K in Ks:\n",
    "    np.random.seed(1337)\n",
    "    km = KMeans(K, 3000)\n",
    "    km.fit(train)\n",
    "    kmeans.append([K, km.get_distortion()])\n",
    "    \n",
    "    gm = GaussianMixture(n_components=K)\n",
    "    gm.fit(train)\n",
    "    gaussians.append([K, gm.score(train)])\n",
    "    \n",
    "kmeans = np.array(kmeans)\n",
    "gaussians = np.array(gaussians)"
   ]
  },
  {
   "cell_type": "code",
   "execution_count": 189,
   "id": "d386dfbb-0528-4841-af89-af8284003f5b",
   "metadata": {},
   "outputs": [
    {
     "data": {
      "image/png": "[encoded data removed]",
      "text/plain": [
       "<Figure size 1152x576 with 2 Axes>"
      ]
     },
     "metadata": {
      "needs_background": "light"
     },
     "output_type": "display_data"
    }
   ],
   "source": [
    "fig, ax1 = plt.subplots()\n",
    "fig.set_size_inches(16,8)\n",
    "\n",
    "ax1.plot(kmeans[:,0], kmeans[:,1], 'bo-')\n",
    "ax1.set_xlabel('k')\n",
    "ax1.set_ylabel('Distortion', color='b')\n",
    "ax1.set_title('Elbow method for KMeans (blue) and Gaussian Mixtures (red)')\n",
    "ax1.tick_params(axis='y', labelcolor='b')\n",
    "\n",
    "ax2 = ax1.twinx()\n",
    "\n",
    "ax2.plot(gaussians[:,0], gaussians[:,1], 'ro-')\n",
    "ax2.set_xlabel('k')\n",
    "ax2.set_ylabel('Score', color='r')\n",
    "ax2.tick_params(axis='y', labelcolor='r')\n",
    "\n",
    "plt.show()"
   ]
  },
  {
   "cell_type": "markdown",
   "id": "5f23a7ec-4ea1-4f95-95ab-227cf9cf765b",
   "metadata": {},
   "source": [
    "Parece ser que K=3 es un parametro indicado antes de observar un cambio repentido, aunque quiza valga la pena considerar el caso donde K = 4 tambien. Veamos los clusters resultantes:"
   ]
  },
  {
   "cell_type": "code",
   "execution_count": 151,
   "id": "056cf46e-cb42-4aca-a9e8-98f10181c9d4",
   "metadata": {},
   "outputs": [],
   "source": [
    "np.random.seed(1337)\n",
    "K = 3\n",
    "km = KMeans(K, 1000)\n",
    "km.fit(train)\n",
    "km_preds = km.predict(train)\n",
    "\n",
    "gm = GaussianMixture(n_components=K)\n",
    "gm.fit(train)\n",
    "gm_preds = gm.predict(train)"
   ]
  },
  {
   "cell_type": "code",
   "execution_count": 152,
   "id": "98f660ca-57ff-4c38-9e71-e4f4def08495",
   "metadata": {},
   "outputs": [
    {
     "data": {
      "text/plain": [
       "<AxesSubplot:title={'center':'KMeans - K = 3'}, xlabel='Estatura(metros)', ylabel='Edad(años)'>"
      ]
     },
     "execution_count": 152,
     "metadata": {},
     "output_type": "execute_result"
    },
    {
     "data": {
      "image/png": "[encoded data removed]",
      "text/plain": [
       "<Figure size 432x288 with 1 Axes>"
      ]
     },
     "metadata": {
      "needs_background": "light"
     },
     "output_type": "display_data"
    }
   ],
   "source": [
    "sns.scatterplot(x = normales.iloc[:, 0], y = normales.iloc[:, 1], hue=km_preds).set_title(\"KMeans - K = 3\")\n",
    "centroids = km.get_centroids()\n",
    "unscaled_centroids = scaler.inverse_transform(centroids)\n",
    "sns.scatterplot(x = unscaled_centroids[:, 0], y = unscaled_centroids[:, 1], color=\"red\")"
   ]
  },
  {
   "cell_type": "code",
   "execution_count": 153,
   "id": "fe2d6dfe-2ddb-4e65-94e0-305da6b846b6",
   "metadata": {},
   "outputs": [
    {
     "data": {
      "text/plain": [
       "Text(0.5, 1.0, 'Gaussian Mixture - K = 3')"
      ]
     },
     "execution_count": 153,
     "metadata": {},
     "output_type": "execute_result"
    },
    {
     "data": {
      "image/png": "[encoded data removed]",
      "text/plain": [
       "<Figure size 432x288 with 1 Axes>"
      ]
     },
     "metadata": {
      "needs_background": "light"
     },
     "output_type": "display_data"
    }
   ],
   "source": [
    "sns.scatterplot(x = normales.iloc[:, 0], y = normales.iloc[:, 1], hue=gm_preds).set_title(\"Gaussian Mixture - K = 3\")"
   ]
  },
  {
   "cell_type": "code",
   "execution_count": 154,
   "id": "8bfb26f6-21cb-49bf-961d-0311377e3779",
   "metadata": {},
   "outputs": [],
   "source": [
    "np.random.seed(1337)\n",
    "K = 4\n",
    "km = KMeans(K, 1000)\n",
    "km.fit(train)\n",
    "km_preds = km.predict(train)\n",
    "\n",
    "gm = GaussianMixture(n_components=K)\n",
    "gm.fit(train)\n",
    "gm_preds = gm.predict(train)"
   ]
  },
  {
   "cell_type": "code",
   "execution_count": 155,
   "id": "4920178b-668c-46e5-8aec-d87fe61a880c",
   "metadata": {},
   "outputs": [
    {
     "data": {
      "text/plain": [
       "<AxesSubplot:title={'center':'KMeans - K = 4'}, xlabel='Estatura(metros)', ylabel='Edad(años)'>"
      ]
     },
     "execution_count": 155,
     "metadata": {},
     "output_type": "execute_result"
    },
    {
     "data": {
      "image/png": "[encoded data removed]",
      "text/plain": [
       "<Figure size 432x288 with 1 Axes>"
      ]
     },
     "metadata": {
      "needs_background": "light"
     },
     "output_type": "display_data"
    }
   ],
   "source": [
    "sns.scatterplot(x = normales.iloc[:, 0], y = normales.iloc[:, 1], hue=km_preds).set_title(\"KMeans - K = 4\")\n",
    "centroids = km.get_centroids()\n",
    "unscaled_centroids = scaler.inverse_transform(centroids)\n",
    "sns.scatterplot(x = unscaled_centroids[:, 0], y = unscaled_centroids[:, 1], color=\"red\")"
   ]
  },
  {
   "cell_type": "code",
   "execution_count": 156,
   "id": "20fd0eb6-a332-40f8-ad99-45ecd4bc4226",
   "metadata": {},
   "outputs": [
    {
     "data": {
      "text/plain": [
       "Text(0.5, 1.0, 'Gaussian Mixture - K = 4')"
      ]
     },
     "execution_count": 156,
     "metadata": {},
     "output_type": "execute_result"
    },
    {
     "data": {
      "image/png": "[encoded data removed]",
      "text/plain": [
       "<Figure size 432x288 with 1 Axes>"
      ]
     },
     "metadata": {
      "needs_background": "light"
     },
     "output_type": "display_data"
    }
   ],
   "source": [
    "sns.scatterplot(x = normales.iloc[:, 0], y = normales.iloc[:, 1], hue=gm_preds).set_title(\"Gaussian Mixture - K = 4\")"
   ]
  },
  {
   "cell_type": "markdown",
   "id": "7374d43d-cfed-4078-93c8-460565e8bcb3",
   "metadata": {},
   "source": [
    "Parece ser que existen tres grupos base:\n",
    "\n",
    "1) Jovenes de estatura baja\n",
    "1) Jovenes de estatura alta\n",
    "1) Personas de alta edad, independiente de su estatura\n",
    "\n",
    "Cuando vemos el cuarto cluster creado con K=4 observamos que realmente es una extension del tercer cluster, con la distincion de que son las personas mas fuera de serie de la poblacion, siendo de muy alta edad y muy alta estatura, pero este cluster provee poca informacion nueva, pero se debe hacer esta distincion porque cuando K=3, GM paree hacer distinciones puramente basado en edades y no en las estaturas. En otras palabras, el metodo del codo nos ayudo a identificar los posibles mejores valores de K segun el algoritmo utilizado y segun el tipo de clusterizacion que buscamos (solo edad vs edad junto con estatura)"
   ]
  },
  {
   "cell_type": "markdown",
   "id": "aacbb6ea-8c19-405c-b749-765ff2ee0c32",
   "metadata": {},
   "source": [
    "# Utilizando valtest con GM cuando K = 4\n",
    "\n",
    "Se usa K = 4 porque a mi parecer, es mas informativo tener una agrupacion donde se toma en cuenta tanto la edad como la estatura"
   ]
  },
  {
   "cell_type": "code",
   "execution_count": 158,
   "id": "6ee42fc7-3608-4f33-9ee3-4eba7c0a7394",
   "metadata": {},
   "outputs": [
    {
     "data": {
      "text/html": [
       "<div>\n",
       "<style scoped>\n",
       "    .dataframe tbody tr th:only-of-type {\n",
       "        vertical-align: middle;\n",
       "    }\n",
       "\n",
       "    .dataframe tbody tr th {\n",
       "        vertical-align: top;\n",
       "    }\n",
       "\n",
       "    .dataframe thead th {\n",
       "        text-align: right;\n",
       "    }\n",
       "</style>\n",
       "<table border=\"1\" class=\"dataframe\">\n",
       "  <thead>\n",
       "    <tr style=\"text-align: right;\">\n",
       "      <th></th>\n",
       "      <th>Estatura(metros)</th>\n",
       "      <th>Edad(años)</th>\n",
       "    </tr>\n",
       "  </thead>\n",
       "  <tbody>\n",
       "    <tr>\n",
       "      <th>0</th>\n",
       "      <td>1.82</td>\n",
       "      <td>25.0</td>\n",
       "    </tr>\n",
       "    <tr>\n",
       "      <th>1</th>\n",
       "      <td>1.80</td>\n",
       "      <td>27.0</td>\n",
       "    </tr>\n",
       "    <tr>\n",
       "      <th>2</th>\n",
       "      <td>1.60</td>\n",
       "      <td>31.0</td>\n",
       "    </tr>\n",
       "    <tr>\n",
       "      <th>3</th>\n",
       "      <td>1.60</td>\n",
       "      <td>35.0</td>\n",
       "    </tr>\n",
       "    <tr>\n",
       "      <th>4</th>\n",
       "      <td>1.82</td>\n",
       "      <td>30.0</td>\n",
       "    </tr>\n",
       "    <tr>\n",
       "      <th>5</th>\n",
       "      <td>1.76</td>\n",
       "      <td>32.0</td>\n",
       "    </tr>\n",
       "    <tr>\n",
       "      <th>6</th>\n",
       "      <td>1.79</td>\n",
       "      <td>31.0</td>\n",
       "    </tr>\n",
       "    <tr>\n",
       "      <th>7</th>\n",
       "      <td>1.61</td>\n",
       "      <td>31.0</td>\n",
       "    </tr>\n",
       "  </tbody>\n",
       "</table>\n",
       "</div>"
      ],
      "text/plain": [
       "   Estatura(metros)  Edad(años)\n",
       "0              1.82        25.0\n",
       "1              1.80        27.0\n",
       "2              1.60        31.0\n",
       "3              1.60        35.0\n",
       "4              1.82        30.0\n",
       "5              1.76        32.0\n",
       "6              1.79        31.0\n",
       "7              1.61        31.0"
      ]
     },
     "execution_count": 158,
     "metadata": {},
     "output_type": "execute_result"
    }
   ],
   "source": [
    "valtest = pd.read_excel(\"estaturas.xlsx\", sheet_name=\"valtest(normales)\")\n",
    "valtest"
   ]
  },
  {
   "cell_type": "code",
   "execution_count": 161,
   "id": "803145fe-752d-4bf6-884e-0fc898c6b7a2",
   "metadata": {},
   "outputs": [
    {
     "data": {
      "text/plain": [
       "array([0, 0, 1, 1, 0, 3, 3, 1], dtype=int64)"
      ]
     },
     "execution_count": 161,
     "metadata": {},
     "output_type": "execute_result"
    }
   ],
   "source": [
    "scaled_valtest = scaler.transform(valtest)\n",
    "gm_valtest_preds = gm.predict(scaled_valtest)\n",
    "gm_valtest_preds"
   ]
  },
  {
   "cell_type": "code",
   "execution_count": 176,
   "id": "3097301b-688c-478e-8de4-5a7b83404104",
   "metadata": {},
   "outputs": [
    {
     "data": {
      "text/plain": [
       "Text(0.5, 1.0, 'Gaussian Mixture - K = 4')"
      ]
     },
     "execution_count": 176,
     "metadata": {},
     "output_type": "execute_result"
    },
    {
     "data": {
      "image/png": "[encoded data removed]",
      "text/plain": [
       "<Figure size 432x288 with 1 Axes>"
      ]
     },
     "metadata": {
      "needs_background": "light"
     },
     "output_type": "display_data"
    }
   ],
   "source": [
    "sns.scatterplot(x = valtest.iloc[:, 0], y = valtest.iloc[:, 1], hue=gm_valtest_preds).set_title(\"Gaussian Mixture - K = 4\")"
   ]
  },
  {
   "cell_type": "markdown",
   "id": "4ace0130-7be7-41e0-adea-45c9c5f4a027",
   "metadata": {},
   "source": [
    "Probabilidades de que cada observacion pertenezca a cada cluster:"
   ]
  },
  {
   "cell_type": "code",
   "execution_count": 177,
   "id": "adaa66fd-a6b2-4432-81e9-917a93be74da",
   "metadata": {},
   "outputs": [
    {
     "data": {
      "text/plain": [
       "array([[7.74888344e-01, 2.09674480e-01, 2.62810822e-08, 1.54371502e-02],\n",
       "       [6.67578098e-01, 2.51429857e-01, 8.40393991e-05, 8.09080058e-02],\n",
       "       [5.97318480e-05, 9.99780043e-01, 1.26987095e-40, 1.60225316e-04],\n",
       "       [3.02494163e-05, 8.17157270e-01, 4.12201240e-44, 1.82812481e-01],\n",
       "       [7.76416949e-01, 2.86519939e-02, 7.34725622e-05, 1.94857584e-01],\n",
       "       [5.14917300e-02, 2.67866315e-02, 8.08096435e-03, 9.13640674e-01],\n",
       "       [2.95842295e-01, 3.74637707e-02, 1.97710061e-02, 6.46922928e-01],\n",
       "       [1.11125726e-04, 9.99410167e-01, 1.81267148e-36, 4.78707178e-04]])"
      ]
     },
     "execution_count": 177,
     "metadata": {},
     "output_type": "execute_result"
    }
   ],
   "source": [
    "gm.predict_proba(scaled_valtest)"
   ]
  },
  {
   "cell_type": "code",
   "execution_count": 181,
   "id": "484a9b93-0cd3-47fb-baf8-45a49f430be6",
   "metadata": {},
   "outputs": [
    {
     "data": {
      "text/plain": [
       "<AxesSubplot:ylabel='Count'>"
      ]
     },
     "execution_count": 181,
     "metadata": {},
     "output_type": "execute_result"
    },
    {
     "data": {
      "image/png": "[encoded data removed]",
      "text/plain": [
       "<Figure size 432x288 with 1 Axes>"
      ]
     },
     "metadata": {
      "needs_background": "light"
     },
     "output_type": "display_data"
    }
   ],
   "source": [
    "#Histograma de probabilidades de que cada observacion pertenezca a su clsuter asignado\n",
    "sns.histplot(np.max(gm.predict_proba(scaled_valtest), axis = 1))"
   ]
  },
  {
   "cell_type": "markdown",
   "id": "04e055ae-99ef-4893-a5b7-039decd88dc5",
   "metadata": {},
   "source": [
    "# Simulacion Monte Carlo usando GM\n",
    "Se desea estimar E(X), donde X: R^2 -> R tal que f(estatura, edad) = estatura/edad"
   ]
  },
  {
   "cell_type": "code",
   "execution_count": 185,
   "id": "cdf971ac-4cf4-4656-937a-0a8dae0d6d09",
   "metadata": {},
   "outputs": [
    {
     "data": {
      "text/plain": [
       "array([[ 1.8760794 , 27.16556594],\n",
       "       [ 1.84738054, 25.36482085],\n",
       "       [ 1.90295516, 31.70667873],\n",
       "       ...,\n",
       "       [ 1.74794521, 33.12362731],\n",
       "       [ 1.70566789, 37.77484893],\n",
       "       [ 1.70306846, 34.43297097]])"
      ]
     },
     "execution_count": 185,
     "metadata": {},
     "output_type": "execute_result"
    }
   ],
   "source": [
    "samples = gm.sample(1000)\n",
    "height_and_age = samples[0]\n",
    "unscaled_haa = scaler.inverse_transform(height_and_age)\n",
    "unscaled_haa"
   ]
  },
  {
   "cell_type": "code",
   "execution_count": 187,
   "id": "78f27af2-0dea-49e4-acae-61233046c3e8",
   "metadata": {},
   "outputs": [
    {
     "data": {
      "text/plain": [
       "0.06068380475027981"
      ]
     },
     "execution_count": 187,
     "metadata": {},
     "output_type": "execute_result"
    }
   ],
   "source": [
    "np.mean(unscaled_haa[:, 0]/unscaled_haa[:, 1])"
   ]
  },
  {
   "cell_type": "markdown",
   "id": "984dbeb9-8a27-4d90-82cd-147b00e10d87",
   "metadata": {},
   "source": [
    "Tenemos un numero muy pequeño, lo cual tiene sentido debido a que estamos diviendo una estatura en metros (de 1.55 a 1.90) entre una edad (de 20 a 50+)"
   ]
  }
 ],
 "metadata": {
  "kernelspec": {
   "display_name": "Python 3 (ipykernel)",
   "language": "python",
   "name": "python3"
  },
  "language_info": {
   "codemirror_mode": {
    "name": "ipython",
    "version": 3
   },
   "file_extension": ".py",
   "mimetype": "text/x-python",
   "name": "python",
   "nbconvert_exporter": "python",
   "pygments_lexer": "ipython3",
   "version": "3.9.12"
  }
 },
 "nbformat": 4,
 "nbformat_minor": 5
}
